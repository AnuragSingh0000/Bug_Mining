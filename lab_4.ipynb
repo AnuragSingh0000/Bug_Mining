{
 "cells": [
  {
   "cell_type": "code",
   "execution_count": 1,
   "id": "783c9ad4",
   "metadata": {
    "execution": {
     "iopub.execute_input": "2025-09-01T06:02:16.330077Z",
     "iopub.status.busy": "2025-09-01T06:02:16.329820Z",
     "iopub.status.idle": "2025-09-01T06:02:31.855062Z",
     "shell.execute_reply": "2025-09-01T06:02:31.854319Z",
     "shell.execute_reply.started": "2025-09-01T06:02:16.330051Z"
    },
    "trusted": true
   },
   "outputs": [],
   "source": [
    "import os\n",
    "import sys\n",
    "import math\n",
    "import torch\n",
    "import pydriller\n",
    "import numpy as np\n",
    "import pandas as pd\n",
    "import matplotlib.pyplot as plt\n",
    "from pydriller import Repository"
   ]
  },
  {
   "cell_type": "code",
   "execution_count": 2,
   "id": "b21ae3c7",
   "metadata": {
    "execution": {
     "iopub.execute_input": "2025-09-01T06:02:31.856883Z",
     "iopub.status.busy": "2025-09-01T06:02:31.856553Z",
     "iopub.status.idle": "2025-09-01T06:02:31.863262Z",
     "shell.execute_reply": "2025-09-01T06:02:31.862622Z",
     "shell.execute_reply.started": "2025-09-01T06:02:31.856863Z"
    },
    "trusted": true
   },
   "outputs": [],
   "source": [
    "\n",
    "def clean_lines(lines):\n",
    "    # Remove blank lines and strip whitespace\n",
    "    return [line.strip() for line in lines if line.strip()]\n",
    "\n",
    "def get_diff(mf):\n",
    "    if mf.diff is None:\n",
    "        return \"\"\n",
    "    lines = mf.diff.splitlines()\n",
    "    return \"\\n\".join(clean_lines(lines))\n",
    "\n",
    "def create_consolidated_df(repo_urls):\n",
    "    files_list = []\n",
    "    for repo_url in repo_urls:\n",
    "        for commit in Repository(repo_url, skip_whitespaces=True).traverse_commits():\n",
    "            parent_sha = commit.parents[0] if commit.parents else \"\"\n",
    "            for mf in commit.modified_files:\n",
    "                files_list.append([\n",
    "                    mf.old_path or \"\",\n",
    "                    mf.new_path or \"\",\n",
    "                    commit.hash,\n",
    "                    parent_sha,\n",
    "                    commit.msg,\n",
    "                    get_diff(mf)\n",
    "                ])\n",
    "    df = pd.DataFrame(files_list, columns=[\n",
    "        \"old_file_path\", \"new_file_path\", \"commit_sha\", \"parent_commit_sha\",\n",
    "        \"commit_message\", \"diff_myers\"\n",
    "    ])\n",
    "    hist_diff = []\n",
    "    for repo_url in repo_urls:\n",
    "        for commit in Repository(repo_url, histogram_diff=True, skip_whitespaces=True).traverse_commits():\n",
    "            parent_sha = commit.parents[0] if commit.parents else \"\"\n",
    "            for mf in commit.modified_files:\n",
    "                hist_diff.append(get_diff(mf))\n",
    "    df[\"diff_hist\"] = pd.Series(hist_diff)\n",
    "    return df\n"
   ]
  },
  {
   "cell_type": "code",
   "execution_count": null,
   "id": "682bc27a",
   "metadata": {
    "execution": {
     "iopub.execute_input": "2025-09-01T06:02:31.864189Z",
     "iopub.status.busy": "2025-09-01T06:02:31.864021Z",
     "iopub.status.idle": "2025-09-01T06:04:27.549305Z",
     "shell.execute_reply": "2025-09-01T06:04:27.548725Z",
     "shell.execute_reply.started": "2025-09-01T06:02:31.864175Z"
    },
    "trusted": true
   },
   "outputs": [
    {
     "name": "stdout",
     "output_type": "stream",
     "text": [
      "Saved consolidated_repo_data.csv\n"
     ]
    },
    {
     "data": {
      "text/html": [
       "<div>\n",
       "<style scoped>\n",
       "    .dataframe tbody tr th:only-of-type {\n",
       "        vertical-align: middle;\n",
       "    }\n",
       "\n",
       "    .dataframe tbody tr th {\n",
       "        vertical-align: top;\n",
       "    }\n",
       "\n",
       "    .dataframe thead th {\n",
       "        text-align: right;\n",
       "    }\n",
       "</style>\n",
       "<table border=\"1\" class=\"dataframe\">\n",
       "  <thead>\n",
       "    <tr style=\"text-align: right;\">\n",
       "      <th></th>\n",
       "      <th>old_file_path</th>\n",
       "      <th>new_file_path</th>\n",
       "      <th>commit_sha</th>\n",
       "      <th>parent_commit_sha</th>\n",
       "      <th>commit_message</th>\n",
       "      <th>diff_myers</th>\n",
       "      <th>diff_hist</th>\n",
       "    </tr>\n",
       "  </thead>\n",
       "  <tbody>\n",
       "    <tr>\n",
       "      <th>15124</th>\n",
       "      <td>tests/test_lora_variants.py</td>\n",
       "      <td>tests/test_lora_variants.py</td>\n",
       "      <td>293aea5df6db240856a77f89955d1a89ce38b50d</td>\n",
       "      <td>a3197b1ec54baa107e2efc4a30c19209d9ea489a</td>\n",
       "      <td>Support for Activated LoRA (#2609)\\n\\nThis PR ...</td>\n",
       "      <td>@@ -22,13 +22,18 @@ from peft.tuners.lora.laye...</td>\n",
       "      <td>@@ -22,13 +22,18 @@ from peft.tuners.lora.laye...</td>\n",
       "    </tr>\n",
       "    <tr>\n",
       "      <th>15125</th>\n",
       "      <td>tests/testing_common.py</td>\n",
       "      <td>tests/testing_common.py</td>\n",
       "      <td>293aea5df6db240856a77f89955d1a89ce38b50d</td>\n",
       "      <td>a3197b1ec54baa107e2efc4a30c19209d9ea489a</td>\n",
       "      <td>Support for Activated LoRA (#2609)\\n\\nThis PR ...</td>\n",
       "      <td>@@ -586,10 +586,15 @@ class PeftCommonTester:\\...</td>\n",
       "      <td>@@ -586,10 +586,15 @@ class PeftCommonTester:\\...</td>\n",
       "    </tr>\n",
       "    <tr>\n",
       "      <th>15126</th>\n",
       "      <td>docs/source/developer_guides/lora.md</td>\n",
       "      <td>docs/source/developer_guides/lora.md</td>\n",
       "      <td>de60e88b6bd98c8fc2060682099e6b9108e14210</td>\n",
       "      <td>293aea5df6db240856a77f89955d1a89ce38b50d</td>\n",
       "      <td>Fix missing code start in docs (#2768)\\n\\nTher...</td>\n",
       "      <td>@@ -248,7 +248,10 @@ output = model_alora.gene...</td>\n",
       "      <td>@@ -248,7 +248,10 @@ output = model_alora.gene...</td>\n",
       "    </tr>\n",
       "    <tr>\n",
       "      <th>15127</th>\n",
       "      <td>tests/test_gpu_examples.py</td>\n",
       "      <td>tests/test_gpu_examples.py</td>\n",
       "      <td>2ea5377ee3069fa5aa49ed3930ac52bc706aed85</td>\n",
       "      <td>de60e88b6bd98c8fc2060682099e6b9108e14210</td>\n",
       "      <td>TST FIX Failing AutoAWQ test with torch 2.8 (#...</td>\n",
       "      <td>@@ -3712,6 +3712,13 @@ class PeftHqqGPUTests(u...</td>\n",
       "      <td>@@ -3712,6 +3712,13 @@ class PeftHqqGPUTests(u...</td>\n",
       "    </tr>\n",
       "    <tr>\n",
       "      <th>15128</th>\n",
       "      <td>src/peft/utils/integrations.py</td>\n",
       "      <td>src/peft/utils/integrations.py</td>\n",
       "      <td>5d97453235d3c3073b059995f56260d364d44e83</td>\n",
       "      <td>2ea5377ee3069fa5aa49ed3930ac52bc706aed85</td>\n",
       "      <td>FIX Deprecated key_cache attribute on Cache pt...</td>\n",
       "      <td>@@ -179,6 +179,14 @@ def map_cache_to_layer_de...</td>\n",
       "      <td>@@ -179,6 +179,14 @@ def map_cache_to_layer_de...</td>\n",
       "    </tr>\n",
       "  </tbody>\n",
       "</table>\n",
       "</div>"
      ],
      "text/plain": [
       "                              old_file_path  \\\n",
       "15124           tests/test_lora_variants.py   \n",
       "15125               tests/testing_common.py   \n",
       "15126  docs/source/developer_guides/lora.md   \n",
       "15127            tests/test_gpu_examples.py   \n",
       "15128        src/peft/utils/integrations.py   \n",
       "\n",
       "                              new_file_path  \\\n",
       "15124           tests/test_lora_variants.py   \n",
       "15125               tests/testing_common.py   \n",
       "15126  docs/source/developer_guides/lora.md   \n",
       "15127            tests/test_gpu_examples.py   \n",
       "15128        src/peft/utils/integrations.py   \n",
       "\n",
       "                                     commit_sha  \\\n",
       "15124  293aea5df6db240856a77f89955d1a89ce38b50d   \n",
       "15125  293aea5df6db240856a77f89955d1a89ce38b50d   \n",
       "15126  de60e88b6bd98c8fc2060682099e6b9108e14210   \n",
       "15127  2ea5377ee3069fa5aa49ed3930ac52bc706aed85   \n",
       "15128  5d97453235d3c3073b059995f56260d364d44e83   \n",
       "\n",
       "                              parent_commit_sha  \\\n",
       "15124  a3197b1ec54baa107e2efc4a30c19209d9ea489a   \n",
       "15125  a3197b1ec54baa107e2efc4a30c19209d9ea489a   \n",
       "15126  293aea5df6db240856a77f89955d1a89ce38b50d   \n",
       "15127  de60e88b6bd98c8fc2060682099e6b9108e14210   \n",
       "15128  2ea5377ee3069fa5aa49ed3930ac52bc706aed85   \n",
       "\n",
       "                                          commit_message  \\\n",
       "15124  Support for Activated LoRA (#2609)\\n\\nThis PR ...   \n",
       "15125  Support for Activated LoRA (#2609)\\n\\nThis PR ...   \n",
       "15126  Fix missing code start in docs (#2768)\\n\\nTher...   \n",
       "15127  TST FIX Failing AutoAWQ test with torch 2.8 (#...   \n",
       "15128  FIX Deprecated key_cache attribute on Cache pt...   \n",
       "\n",
       "                                              diff_myers  \\\n",
       "15124  @@ -22,13 +22,18 @@ from peft.tuners.lora.laye...   \n",
       "15125  @@ -586,10 +586,15 @@ class PeftCommonTester:\\...   \n",
       "15126  @@ -248,7 +248,10 @@ output = model_alora.gene...   \n",
       "15127  @@ -3712,6 +3712,13 @@ class PeftHqqGPUTests(u...   \n",
       "15128  @@ -179,6 +179,14 @@ def map_cache_to_layer_de...   \n",
       "\n",
       "                                               diff_hist  \n",
       "15124  @@ -22,13 +22,18 @@ from peft.tuners.lora.laye...  \n",
       "15125  @@ -586,10 +586,15 @@ class PeftCommonTester:\\...  \n",
       "15126  @@ -248,7 +248,10 @@ output = model_alora.gene...  \n",
       "15127  @@ -3712,6 +3712,13 @@ class PeftHqqGPUTests(u...  \n",
       "15128  @@ -179,6 +179,14 @@ def map_cache_to_layer_de...  "
      ]
     },
     "metadata": {},
     "output_type": "display_data"
    }
   ],
   "source": [
    "repo_urls = [\n",
    "    \"https://github.com/Kludex/starlette\",\n",
    "    \"https://github.com/huggingface/trl\",\n",
    "    \"https://github.com/huggingface/peft\"\n",
    "]\n",
    "\n",
    "# consolidated_df = pd.read_csv(\"csv_files\\lab_4\\consolidated_repo_data.csv\")\n",
    "consolidated_df = create_consolidated_df(repo_urls)\n",
    "consolidated_df.to_csv(\"csv_files\\lab_4\\consolidated_repo_data.csv\",\n",
    "                       index=False)\n",
    "print(\"Saved consolidated_repo_data.csv\")\n",
    "display(consolidated_df.tail())"
   ]
  },
  {
   "cell_type": "code",
   "execution_count": 5,
   "id": "487f4687-fee0-4abd-be19-147f203411e2",
   "metadata": {
    "execution": {
     "iopub.execute_input": "2025-09-01T06:34:20.711631Z",
     "iopub.status.busy": "2025-09-01T06:34:20.710894Z",
     "iopub.status.idle": "2025-09-01T06:34:24.080892Z",
     "shell.execute_reply": "2025-09-01T06:34:24.080249Z",
     "shell.execute_reply.started": "2025-09-01T06:34:20.711604Z"
    },
    "trusted": true
   },
   "outputs": [
    {
     "data": {
      "text/html": [
       "<div>\n",
       "<style scoped>\n",
       "    .dataframe tbody tr th:only-of-type {\n",
       "        vertical-align: middle;\n",
       "    }\n",
       "\n",
       "    .dataframe tbody tr th {\n",
       "        vertical-align: top;\n",
       "    }\n",
       "\n",
       "    .dataframe thead th {\n",
       "        text-align: right;\n",
       "    }\n",
       "</style>\n",
       "<table border=\"1\" class=\"dataframe\">\n",
       "  <thead>\n",
       "    <tr style=\"text-align: right;\">\n",
       "      <th></th>\n",
       "      <th>old_file_path</th>\n",
       "      <th>new_file_path</th>\n",
       "      <th>commit_sha</th>\n",
       "      <th>parent_commit_sha</th>\n",
       "      <th>commit_message</th>\n",
       "      <th>diff_myers</th>\n",
       "      <th>diff_hist</th>\n",
       "      <th>Discrepancy</th>\n",
       "    </tr>\n",
       "  </thead>\n",
       "  <tbody>\n",
       "    <tr>\n",
       "      <th>15119</th>\n",
       "      <td>src/peft/tuners/lora/model.py</td>\n",
       "      <td>src/peft/tuners/lora/model.py</td>\n",
       "      <td>293aea5df6db240856a77f89955d1a89ce38b50d</td>\n",
       "      <td>a3197b1ec54baa107e2efc4a30c19209d9ea489a</td>\n",
       "      <td>Support for Activated LoRA (#2609)\\n\\nThis PR ...</td>\n",
       "      <td>@@ -64,6 +64,11 @@ def _adapter_names_pre_forw...</td>\n",
       "      <td>@@ -64,6 +64,11 @@ def _adapter_names_pre_forw...</td>\n",
       "      <td>No</td>\n",
       "    </tr>\n",
       "    <tr>\n",
       "      <th>15120</th>\n",
       "      <td>src/peft/tuners/lora/variants.py</td>\n",
       "      <td>src/peft/tuners/lora/variants.py</td>\n",
       "      <td>293aea5df6db240856a77f89955d1a89ce38b50d</td>\n",
       "      <td>a3197b1ec54baa107e2efc4a30c19209d9ea489a</td>\n",
       "      <td>Support for Activated LoRA (#2609)\\n\\nThis PR ...</td>\n",
       "      <td>@@ -13,7 +13,9 @@\\n# limitations under the Lic...</td>\n",
       "      <td>@@ -13,7 +13,9 @@\\n# limitations under the Lic...</td>\n",
       "      <td>No</td>\n",
       "    </tr>\n",
       "    <tr>\n",
       "      <th>15121</th>\n",
       "      <td>tests/test_custom_models.py</td>\n",
       "      <td>tests/test_custom_models.py</td>\n",
       "      <td>293aea5df6db240856a77f89955d1a89ce38b50d</td>\n",
       "      <td>a3197b1ec54baa107e2efc4a30c19209d9ea489a</td>\n",
       "      <td>Support for Activated LoRA (#2609)\\n\\nThis PR ...</td>\n",
       "      <td>@@ -2099,7 +2099,6 @@ class TestPeftCustomMode...</td>\n",
       "      <td>@@ -2099,7 +2099,6 @@ class TestPeftCustomMode...</td>\n",
       "      <td>No</td>\n",
       "    </tr>\n",
       "    <tr>\n",
       "      <th>15122</th>\n",
       "      <td>tests/test_decoder_models.py</td>\n",
       "      <td>tests/test_decoder_models.py</td>\n",
       "      <td>293aea5df6db240856a77f89955d1a89ce38b50d</td>\n",
       "      <td>a3197b1ec54baa107e2efc4a30c19209d9ea489a</td>\n",
       "      <td>Support for Activated LoRA (#2609)\\n\\nThis PR ...</td>\n",
       "      <td>@@ -152,6 +152,32 @@ ALL_CONFIGS = [\\n\"bias\": ...</td>\n",
       "      <td>@@ -152,6 +152,32 @@ ALL_CONFIGS = [\\n\"bias\": ...</td>\n",
       "      <td>No</td>\n",
       "    </tr>\n",
       "    <tr>\n",
       "      <th>15123</th>\n",
       "      <td>tests/test_gpu_examples.py</td>\n",
       "      <td>tests/test_gpu_examples.py</td>\n",
       "      <td>293aea5df6db240856a77f89955d1a89ce38b50d</td>\n",
       "      <td>a3197b1ec54baa107e2efc4a30c19209d9ea489a</td>\n",
       "      <td>Support for Activated LoRA (#2609)\\n\\nThis PR ...</td>\n",
       "      <td>@@ -4853,6 +4853,79 @@ class TestEvaInitializa...</td>\n",
       "      <td>@@ -4853,6 +4853,79 @@ class TestEvaInitializa...</td>\n",
       "      <td>No</td>\n",
       "    </tr>\n",
       "    <tr>\n",
       "      <th>15124</th>\n",
       "      <td>tests/test_lora_variants.py</td>\n",
       "      <td>tests/test_lora_variants.py</td>\n",
       "      <td>293aea5df6db240856a77f89955d1a89ce38b50d</td>\n",
       "      <td>a3197b1ec54baa107e2efc4a30c19209d9ea489a</td>\n",
       "      <td>Support for Activated LoRA (#2609)\\n\\nThis PR ...</td>\n",
       "      <td>@@ -22,13 +22,18 @@ from peft.tuners.lora.laye...</td>\n",
       "      <td>@@ -22,13 +22,18 @@ from peft.tuners.lora.laye...</td>\n",
       "      <td>No</td>\n",
       "    </tr>\n",
       "    <tr>\n",
       "      <th>15125</th>\n",
       "      <td>tests/testing_common.py</td>\n",
       "      <td>tests/testing_common.py</td>\n",
       "      <td>293aea5df6db240856a77f89955d1a89ce38b50d</td>\n",
       "      <td>a3197b1ec54baa107e2efc4a30c19209d9ea489a</td>\n",
       "      <td>Support for Activated LoRA (#2609)\\n\\nThis PR ...</td>\n",
       "      <td>@@ -586,10 +586,15 @@ class PeftCommonTester:\\...</td>\n",
       "      <td>@@ -586,10 +586,15 @@ class PeftCommonTester:\\...</td>\n",
       "      <td>No</td>\n",
       "    </tr>\n",
       "    <tr>\n",
       "      <th>15126</th>\n",
       "      <td>docs/source/developer_guides/lora.md</td>\n",
       "      <td>docs/source/developer_guides/lora.md</td>\n",
       "      <td>de60e88b6bd98c8fc2060682099e6b9108e14210</td>\n",
       "      <td>293aea5df6db240856a77f89955d1a89ce38b50d</td>\n",
       "      <td>Fix missing code start in docs (#2768)\\n\\nTher...</td>\n",
       "      <td>@@ -248,7 +248,10 @@ output = model_alora.gene...</td>\n",
       "      <td>@@ -248,7 +248,10 @@ output = model_alora.gene...</td>\n",
       "      <td>No</td>\n",
       "    </tr>\n",
       "    <tr>\n",
       "      <th>15127</th>\n",
       "      <td>tests/test_gpu_examples.py</td>\n",
       "      <td>tests/test_gpu_examples.py</td>\n",
       "      <td>2ea5377ee3069fa5aa49ed3930ac52bc706aed85</td>\n",
       "      <td>de60e88b6bd98c8fc2060682099e6b9108e14210</td>\n",
       "      <td>TST FIX Failing AutoAWQ test with torch 2.8 (#...</td>\n",
       "      <td>@@ -3712,6 +3712,13 @@ class PeftHqqGPUTests(u...</td>\n",
       "      <td>@@ -3712,6 +3712,13 @@ class PeftHqqGPUTests(u...</td>\n",
       "      <td>No</td>\n",
       "    </tr>\n",
       "    <tr>\n",
       "      <th>15128</th>\n",
       "      <td>src/peft/utils/integrations.py</td>\n",
       "      <td>src/peft/utils/integrations.py</td>\n",
       "      <td>5d97453235d3c3073b059995f56260d364d44e83</td>\n",
       "      <td>2ea5377ee3069fa5aa49ed3930ac52bc706aed85</td>\n",
       "      <td>FIX Deprecated key_cache attribute on Cache pt...</td>\n",
       "      <td>@@ -179,6 +179,14 @@ def map_cache_to_layer_de...</td>\n",
       "      <td>@@ -179,6 +179,14 @@ def map_cache_to_layer_de...</td>\n",
       "      <td>No</td>\n",
       "    </tr>\n",
       "  </tbody>\n",
       "</table>\n",
       "</div>"
      ],
      "text/plain": [
       "                              old_file_path  \\\n",
       "15119         src/peft/tuners/lora/model.py   \n",
       "15120      src/peft/tuners/lora/variants.py   \n",
       "15121           tests/test_custom_models.py   \n",
       "15122          tests/test_decoder_models.py   \n",
       "15123            tests/test_gpu_examples.py   \n",
       "15124           tests/test_lora_variants.py   \n",
       "15125               tests/testing_common.py   \n",
       "15126  docs/source/developer_guides/lora.md   \n",
       "15127            tests/test_gpu_examples.py   \n",
       "15128        src/peft/utils/integrations.py   \n",
       "\n",
       "                              new_file_path  \\\n",
       "15119         src/peft/tuners/lora/model.py   \n",
       "15120      src/peft/tuners/lora/variants.py   \n",
       "15121           tests/test_custom_models.py   \n",
       "15122          tests/test_decoder_models.py   \n",
       "15123            tests/test_gpu_examples.py   \n",
       "15124           tests/test_lora_variants.py   \n",
       "15125               tests/testing_common.py   \n",
       "15126  docs/source/developer_guides/lora.md   \n",
       "15127            tests/test_gpu_examples.py   \n",
       "15128        src/peft/utils/integrations.py   \n",
       "\n",
       "                                     commit_sha  \\\n",
       "15119  293aea5df6db240856a77f89955d1a89ce38b50d   \n",
       "15120  293aea5df6db240856a77f89955d1a89ce38b50d   \n",
       "15121  293aea5df6db240856a77f89955d1a89ce38b50d   \n",
       "15122  293aea5df6db240856a77f89955d1a89ce38b50d   \n",
       "15123  293aea5df6db240856a77f89955d1a89ce38b50d   \n",
       "15124  293aea5df6db240856a77f89955d1a89ce38b50d   \n",
       "15125  293aea5df6db240856a77f89955d1a89ce38b50d   \n",
       "15126  de60e88b6bd98c8fc2060682099e6b9108e14210   \n",
       "15127  2ea5377ee3069fa5aa49ed3930ac52bc706aed85   \n",
       "15128  5d97453235d3c3073b059995f56260d364d44e83   \n",
       "\n",
       "                              parent_commit_sha  \\\n",
       "15119  a3197b1ec54baa107e2efc4a30c19209d9ea489a   \n",
       "15120  a3197b1ec54baa107e2efc4a30c19209d9ea489a   \n",
       "15121  a3197b1ec54baa107e2efc4a30c19209d9ea489a   \n",
       "15122  a3197b1ec54baa107e2efc4a30c19209d9ea489a   \n",
       "15123  a3197b1ec54baa107e2efc4a30c19209d9ea489a   \n",
       "15124  a3197b1ec54baa107e2efc4a30c19209d9ea489a   \n",
       "15125  a3197b1ec54baa107e2efc4a30c19209d9ea489a   \n",
       "15126  293aea5df6db240856a77f89955d1a89ce38b50d   \n",
       "15127  de60e88b6bd98c8fc2060682099e6b9108e14210   \n",
       "15128  2ea5377ee3069fa5aa49ed3930ac52bc706aed85   \n",
       "\n",
       "                                          commit_message  \\\n",
       "15119  Support for Activated LoRA (#2609)\\n\\nThis PR ...   \n",
       "15120  Support for Activated LoRA (#2609)\\n\\nThis PR ...   \n",
       "15121  Support for Activated LoRA (#2609)\\n\\nThis PR ...   \n",
       "15122  Support for Activated LoRA (#2609)\\n\\nThis PR ...   \n",
       "15123  Support for Activated LoRA (#2609)\\n\\nThis PR ...   \n",
       "15124  Support for Activated LoRA (#2609)\\n\\nThis PR ...   \n",
       "15125  Support for Activated LoRA (#2609)\\n\\nThis PR ...   \n",
       "15126  Fix missing code start in docs (#2768)\\n\\nTher...   \n",
       "15127  TST FIX Failing AutoAWQ test with torch 2.8 (#...   \n",
       "15128  FIX Deprecated key_cache attribute on Cache pt...   \n",
       "\n",
       "                                              diff_myers  \\\n",
       "15119  @@ -64,6 +64,11 @@ def _adapter_names_pre_forw...   \n",
       "15120  @@ -13,7 +13,9 @@\\n# limitations under the Lic...   \n",
       "15121  @@ -2099,7 +2099,6 @@ class TestPeftCustomMode...   \n",
       "15122  @@ -152,6 +152,32 @@ ALL_CONFIGS = [\\n\"bias\": ...   \n",
       "15123  @@ -4853,6 +4853,79 @@ class TestEvaInitializa...   \n",
       "15124  @@ -22,13 +22,18 @@ from peft.tuners.lora.laye...   \n",
       "15125  @@ -586,10 +586,15 @@ class PeftCommonTester:\\...   \n",
       "15126  @@ -248,7 +248,10 @@ output = model_alora.gene...   \n",
       "15127  @@ -3712,6 +3712,13 @@ class PeftHqqGPUTests(u...   \n",
       "15128  @@ -179,6 +179,14 @@ def map_cache_to_layer_de...   \n",
       "\n",
       "                                               diff_hist Discrepancy  \n",
       "15119  @@ -64,6 +64,11 @@ def _adapter_names_pre_forw...          No  \n",
       "15120  @@ -13,7 +13,9 @@\\n# limitations under the Lic...          No  \n",
       "15121  @@ -2099,7 +2099,6 @@ class TestPeftCustomMode...          No  \n",
       "15122  @@ -152,6 +152,32 @@ ALL_CONFIGS = [\\n\"bias\": ...          No  \n",
       "15123  @@ -4853,6 +4853,79 @@ class TestEvaInitializa...          No  \n",
       "15124  @@ -22,13 +22,18 @@ from peft.tuners.lora.laye...          No  \n",
       "15125  @@ -586,10 +586,15 @@ class PeftCommonTester:\\...          No  \n",
       "15126  @@ -248,7 +248,10 @@ output = model_alora.gene...          No  \n",
       "15127  @@ -3712,6 +3712,13 @@ class PeftHqqGPUTests(u...          No  \n",
       "15128  @@ -179,6 +179,14 @@ def map_cache_to_layer_de...          No  "
      ]
     },
     "metadata": {},
     "output_type": "display_data"
    },
    {
     "name": "stdout",
     "output_type": "stream",
     "text": [
      "Saved repo_data.csv\n"
     ]
    }
   ],
   "source": [
    "df = pd.read_csv(\"csv_files/lab_4/consolidated_repo_data.csv\")\n",
    "df[\"Discrepancy\"] = np.where(df[\"diff_myers\"] == df[\"diff_hist\"], \"No\", \"Yes\")\n",
    "display(df.tail(10))\n",
    "\n",
    "df.to_csv(\"csv_files/lab_4/final_repo_data.csv\", index=False)\n",
    "print(\"Saved repo_data.csv\")"
   ]
  },
  {
   "cell_type": "code",
   "execution_count": 6,
   "id": "45af61d3",
   "metadata": {},
   "outputs": [
    {
     "name": "stdout",
     "output_type": "stream",
     "text": [
      "Discrepancy\n",
      "No     14541\n",
      "Yes      588\n",
      "Name: count, dtype: int64\n"
     ]
    },
    {
     "data": {
      "image/png": "[encoded data removed]",
      "text/plain": [
       "<Figure size 640x480 with 1 Axes>"
      ]
     },
     "metadata": {},
     "output_type": "display_data"
    }
   ],
   "source": [
    "print(df[\"Discrepancy\"].value_counts())\n",
    "df[\"Discrepancy\"].value_counts().plot.pie(\n",
    "    autopct='%1.1f%%',\n",
    "    startangle=90,\n",
    "    counterclock=False,\n",
    "    shadow=True\n",
    ")\n",
    "plt.title(f\"Discrepancy Distribution\")\n",
    "plt.ylabel(\"\")\n",
    "plt.savefig(f\"lab4_plots/pie_discrepancy.png\")\n",
    "plt.show()\n"
   ]
  },
  {
   "cell_type": "code",
   "execution_count": 8,
   "id": "5aeec629-f2a2-4cb1-946a-ae7463e466ed",
   "metadata": {
    "execution": {
     "iopub.execute_input": "2025-09-01T06:31:32.064841Z",
     "iopub.status.busy": "2025-09-01T06:31:32.064569Z",
     "iopub.status.idle": "2025-09-01T06:31:32.103414Z",
     "shell.execute_reply": "2025-09-01T06:31:32.102656Z",
     "shell.execute_reply.started": "2025-09-01T06:31:32.064821Z"
    },
    "trusted": true
   },
   "outputs": [
    {
     "name": "stdout",
     "output_type": "stream",
     "text": [
      "Source Code Files (.py):\n"
     ]
    },
    {
     "data": {
      "text/plain": [
       "Discrepancy\n",
       "No     10436\n",
       "Yes      361\n",
       "Name: count, dtype: int64"
      ]
     },
     "metadata": {},
     "output_type": "display_data"
    },
    {
     "name": "stdout",
     "output_type": "stream",
     "text": [
      "Test Code Files (starting with 'test'):\n"
     ]
    },
    {
     "data": {
      "text/plain": [
       "Discrepancy\n",
       "No     2502\n",
       "Yes     112\n",
       "Name: count, dtype: int64"
      ]
     },
     "metadata": {},
     "output_type": "display_data"
    },
    {
     "name": "stdout",
     "output_type": "stream",
     "text": [
      "README Files (.md):\n"
     ]
    },
    {
     "data": {
      "text/plain": [
       "Discrepancy\n",
       "No     1610\n",
       "Yes      92\n",
       "Name: count, dtype: int64"
      ]
     },
     "metadata": {},
     "output_type": "display_data"
    },
    {
     "name": "stdout",
     "output_type": "stream",
     "text": [
      "LICENSE Files (starting with 'LICENSE'):\n"
     ]
    },
    {
     "data": {
      "text/plain": [
       "Discrepancy\n",
       "No    5\n",
       "Name: count, dtype: int64"
      ]
     },
     "metadata": {},
     "output_type": "display_data"
    }
   ],
   "source": [
    "# filter source code (.py) files\n",
    "df_source_code_files = df.loc[df[\"new_file_path\"].str.split('.').str[-1] == \"py\", \"Discrepancy\"]\n",
    "# filter test files (starting with \"test\")\n",
    "df_test_code_files = df.loc[df[\"new_file_path\"].str[:4] == 'test', \"Discrepancy\"]\n",
    "# filter README files (.md)\n",
    "df_readme_files = df.loc[df[\"new_file_path\"].str.split('.').str[-1] == \"md\", \"Discrepancy\"]\n",
    "# filter LICENSE files (starting with \"LICENSE\")\n",
    "df_license_files = df.loc[df[\"new_file_path\"].str[:7] == \"LICENSE\", \"Discrepancy\"]\n",
    "\n",
    "print(\"Source Code Files (.py):\")\n",
    "display(df_source_code_files.value_counts())\n",
    "\n",
    "print(\"Test Code Files (starting with 'test'):\")\n",
    "display(df_test_code_files.value_counts())\n",
    "\n",
    "print(\"README Files (.md):\")\n",
    "display(df_readme_files.value_counts())\n",
    "\n",
    "print(\"LICENSE Files (starting with 'LICENSE'):\")\n",
    "display(df_license_files.value_counts())"
   ]
  },
  {
   "cell_type": "code",
   "execution_count": 11,
   "id": "23e159f8-37e4-4b42-b443-66961052be21",
   "metadata": {
    "execution": {
     "iopub.execute_input": "2025-09-01T06:33:06.612272Z",
     "iopub.status.busy": "2025-09-01T06:33:06.611564Z",
     "iopub.status.idle": "2025-09-01T06:33:07.366152Z",
     "shell.execute_reply": "2025-09-01T06:33:07.365572Z",
     "shell.execute_reply.started": "2025-09-01T06:33:06.612247Z"
    },
    "trusted": true
   },
   "outputs": [
    {
     "data": {
      "image/png": "[encoded data removed]",
      "text/plain": [
       "<Figure size 1200x800 with 4 Axes>"
      ]
     },
     "metadata": {},
     "output_type": "display_data"
    }
   ],
   "source": [
    "# Create pie charts for each category\n",
    "categories = {\n",
    "    \"Source Code (.py)\": df_source_code_files,\n",
    "    \"Test Files\": df_test_code_files,\n",
    "    \"README Files (.md)\": df_readme_files,\n",
    "    \"LICENSE Files\": df_license_files\n",
    "}\n",
    "\n",
    "# for i, (title, data) in enumerate(categories.items(), 1):\n",
    "#     plt.figure(i)\n",
    "#     data.value_counts().plot.pie(\n",
    "#         autopct='%1.1f%%',\n",
    "#         startangle=90,\n",
    "#         counterclock=False,\n",
    "#         shadow=True\n",
    "#     )\n",
    "#     plt.title(f\"Discrepancy Distribution - {title}\")\n",
    "#     plt.ylabel(\"\")  # remove y-label\n",
    "#     plt.savefig(f\"lab4_plots/pie_discrepancy_{title}.png\")\n",
    "#     plt.show()\n",
    "\n",
    "fig, axes = plt.subplots(2, 2, figsize=(12, 8))  \n",
    "axes = axes.ravel()\n",
    "\n",
    "for ax, (title, data) in zip(axes, categories.items()):\n",
    "    data.value_counts().plot.pie(\n",
    "        ax=ax,\n",
    "        autopct='%1.1f%%',\n",
    "        startangle=90,\n",
    "        counterclock=False,\n",
    "        shadow=True\n",
    "    )\n",
    "    ax.set_title(f\"Discrepancy Distribution - {title}\")\n",
    "    ax.set_ylabel(\"\")\n",
    "\n",
    "plt.tight_layout()\n",
    "plt.savefig(\"lab4_plots/pie_discrepancy_all.png\")\n",
    "plt.show()\n",
    "\n",
    "\n"
   ]
  }
 ],
 "metadata": {
  "kaggle": {
   "accelerator": "nvidiaTeslaT4",
   "dataSources": [],
   "dockerImageVersionId": 31090,
   "isGpuEnabled": true,
   "isInternetEnabled": true,
   "language": "python",
   "sourceType": "notebook"
  },
  "kernelspec": {
   "display_name": "venv",
   "language": "python",
   "name": "python3"
  },
  "language_info": {
   "codemirror_mode": {
    "name": "ipython",
    "version": 3
   },
   "file_extension": ".py",
   "mimetype": "text/x-python",
   "name": "python",
   "nbconvert_exporter": "python",
   "pygments_lexer": "ipython3",
   "version": "3.11.5"
  }
 },
 "nbformat": 4,
 "nbformat_minor": 5
}
